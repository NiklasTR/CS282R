{
 "cells": [
  {
   "cell_type": "markdown",
   "metadata": {},
   "source": [
    "# A probabilistic hello world in Figaro\n",
    "\n",
    "Figaro sits on top of Scala. Thus we are running this jupyter notebook with a spylon Scala kernel."
   ]
  },
  {
   "cell_type": "markdown",
   "metadata": {},
   "source": [
    "Let's start by loading the figaro library into our scala session.\n",
    "\n",
    "The example code and explanation is adapted from the book \"Practical Probabilistic Programming\" by Avi Pfeffer."
   ]
  },
  {
   "cell_type": "markdown",
   "metadata": {},
   "source": [
    "First, we'll write some Scala code, so we understand the general syntax and can differentiate general Scala from Figaro. "
   ]
  },
  {
   "cell_type": "code",
   "execution_count": 1,
   "metadata": {},
   "outputs": [
    {
     "data": {
      "text/plain": [
       "Intitializing Scala interpreter ..."
      ]
     },
     "metadata": {},
     "output_type": "display_data"
    },
    {
     "data": {
      "text/plain": [
       "Spark Web UI available at http://192.168.0.110:4040\n",
       "SparkContext available as 'sc' (version = 2.4.0, master = local[*], app id = local-1553471668463)\n",
       "SparkSession available as 'spark'\n"
      ]
     },
     "metadata": {},
     "output_type": "display_data"
    },
    {
     "data": {
      "text/plain": [
       "x: Int = 2\n",
       "y: Int = 3\n",
       "res0: Int = 5\n"
      ]
     },
     "execution_count": 1,
     "metadata": {},
     "output_type": "execute_result"
    }
   ],
   "source": [
    "val x = 2\n",
    "val y = 3\n",
    "x+y"
   ]
  },
  {
   "cell_type": "code",
   "execution_count": 4,
   "metadata": {},
   "outputs": [
    {
     "ename": "<console>",
     "evalue": "24: error: object cra is not a member of package com",
     "output_type": "error",
     "traceback": [
      "<console>:24: error: object cra is not a member of package com",
      "       import com.cra.figaro.language._",
      "                  ^",
      "<console>:25: error: object cra is not a member of package com",
      "       import com.cra.figaro.algorithm.factored.VariableElimination",
      "                  ^",
      "<console>:26: error: object cra is not a member of package com",
      "       import com.cra.figaro.library.compound.If",
      "                  ^",
      ""
     ]
    }
   ],
   "source": [
    "import com.cra.figaro.language._\n",
    "import com.cra.figaro.algorithm.factored.VariableElimination\n",
    "import com.cra.figaro.library.compound.If\n"
   ]
  },
  {
   "cell_type": "markdown",
   "metadata": {},
   "source": [
    "let's define our first variable"
   ]
  },
  {
   "cell_type": "code",
   "execution_count": 5,
   "metadata": {},
   "outputs": [
    {
     "ename": "<console>",
     "evalue": "24: error: not found: value Flip",
     "output_type": "error",
     "traceback": [
      "<console>:24: error: not found: value Flip",
      "       val sunnyToday = Flip(0.2)",
      "                        ^",
      ""
     ]
    }
   ],
   "source": [
    "val sunnyToday = Flip(0.2)"
   ]
  },
  {
   "cell_type": "code",
   "execution_count": null,
   "metadata": {},
   "outputs": [
    {
     "data": {
      "text/plain": [
       "Intitializing Scala interpreter ..."
      ]
     },
     "metadata": {},
     "output_type": "display_data"
    }
   ],
   "source": [
    "println(VariableElimination.probability(sunnyToday, true))"
   ]
  },
  {
   "cell_type": "code",
   "execution_count": null,
   "metadata": {},
   "outputs": [
    {
     "data": {
      "text/plain": [
       "Intitializing Scala interpreter ..."
      ]
     },
     "metadata": {},
     "output_type": "display_data"
    }
   ],
   "source": [
    "val greetingToday = If(sunnyToday,\n",
    "     Select(0.6 -> \"Hello, world!\", 0.4 -> \"Howdy, universe!\"),\n",
    "     Select(0.2 -> \"Hello, world!\", 0.8 -> \"Oh no, not again\"))"
   ]
  },
  {
   "cell_type": "code",
   "execution_count": null,
   "metadata": {},
   "outputs": [
    {
     "data": {
      "text/plain": [
       "Intitializing Scala interpreter ..."
      ]
     },
     "metadata": {},
     "output_type": "display_data"
    }
   ],
   "source": [
    "greetingToday.observe(\"Hello, world!\")"
   ]
  },
  {
   "cell_type": "code",
   "execution_count": null,
   "metadata": {},
   "outputs": [
    {
     "data": {
      "text/plain": [
       "Intitializing Scala interpreter ..."
      ]
     },
     "metadata": {},
     "output_type": "display_data"
    }
   ],
   "source": [
    "println(VariableElimination.probability(sunnyToday, true))"
   ]
  },
  {
   "cell_type": "code",
   "execution_count": null,
   "metadata": {},
   "outputs": [
    {
     "data": {
      "text/plain": [
       "Intitializing Scala interpreter ..."
      ]
     },
     "metadata": {},
     "output_type": "display_data"
    }
   ],
   "source": [
    "greetingToday.unobserve()"
   ]
  },
  {
   "cell_type": "code",
   "execution_count": null,
   "metadata": {},
   "outputs": [
    {
     "data": {
      "text/plain": [
       "Intitializing Scala interpreter ..."
      ]
     },
     "metadata": {},
     "output_type": "display_data"
    }
   ],
   "source": [
    "println(VariableElimination.probability(sunnyToday, true))"
   ]
  },
  {
   "cell_type": "code",
   "execution_count": null,
   "metadata": {},
   "outputs": [
    {
     "data": {
      "text/plain": [
       "Intitializing Scala interpreter ..."
      ]
     },
     "metadata": {},
     "output_type": "display_data"
    }
   ],
   "source": [
    "val sunnyTomorrow = If(sunnyToday, Flip(0.8), Flip(0.05))\n",
    "val greetingTomorrow = If(sunnyTomorrow,\n",
    "     Select(0.6 -> \"Hello, world!\", 0.4 -> \"Howdy, universe!\"),\n",
    "     Select(0.2 -> \"Hello, world!\", 0.8 -> \"Oh no, not again\"))"
   ]
  },
  {
   "cell_type": "code",
   "execution_count": null,
   "metadata": {},
   "outputs": [
    {
     "data": {
      "text/plain": [
       "Intitializing Scala interpreter ..."
      ]
     },
     "metadata": {},
     "output_type": "display_data"
    }
   ],
   "source": [
    "println(VariableElimination.probability(greetingTomorrow, \"Hello, world!\"))\n",
    "// prints 0.27999999999999997\n",
    "\n",
    "greetingToday.observe(\"Hello, world!\")\n",
    "println(VariableElimination.probability(greetingTomorrow, \"Hello, world!\"))\n",
    "// prints 0.3485714285714286"
   ]
  },
  {
   "cell_type": "markdown",
   "metadata": {},
   "source": [
    "## A slightly more complex Figaro model using *apply*"
   ]
  },
  {
   "cell_type": "code",
   "execution_count": null,
   "metadata": {},
   "outputs": [
    {
     "data": {
      "text/plain": [
       "Intitializing Scala interpreter ..."
      ]
     },
     "metadata": {},
     "output_type": "display_data"
    }
   ],
   "source": [
    "val sunnyDaysInMonth = Binomial(30, 0.2)\n",
    "val teamWinsInMonth = Binomial(5, 0.4)\n",
    "val monthQuality = Apply(sunnyDaysInMonth, teamWinsInMonth,\n",
    "     (days: Int, wins: Int) => {\n",
    "     val x = days * wins\n",
    "     if (x > 20) \"good\"; else if (x > 10) \"average\"; else \"poor\"\n",
    "     })"
   ]
  },
  {
   "cell_type": "markdown",
   "metadata": {},
   "source": [
    "# Adding evidence to a figaro model"
   ]
  },
  {
   "cell_type": "markdown",
   "metadata": {},
   "source": [
    "There are three types of evidence in Figaro: \n",
    "\n",
    "* observations\n",
    "* conditions \n",
    "* constraints\n",
    "\n",
    "We will go through them one by one"
   ]
  },
  {
   "cell_type": "markdown",
   "metadata": {},
   "source": [
    "## observations\n",
    "This is a classic way of feeding measurments/ training data to a model"
   ]
  },
  {
   "cell_type": "code",
   "execution_count": null,
   "metadata": {},
   "outputs": [
    {
     "data": {
      "text/plain": [
       "Intitializing Scala interpreter ..."
      ]
     },
     "metadata": {},
     "output_type": "display_data"
    }
   ],
   "source": [
    "greetingToday.observe(\"Hello, world!\")"
   ]
  },
  {
   "cell_type": "code",
   "execution_count": null,
   "metadata": {},
   "outputs": [
    {
     "data": {
      "text/plain": [
       "Intitializing Scala interpreter ..."
      ]
     },
     "metadata": {},
     "output_type": "display_data"
    }
   ],
   "source": [
    "greetingToday.unobserve()"
   ]
  },
  {
   "cell_type": "markdown",
   "metadata": {},
   "source": [
    "## conditions\n",
    "A condition is a function that needs to be *true* for the model to be evaluated."
   ]
  },
  {
   "cell_type": "markdown",
   "metadata": {},
   "source": [
    "let's go back to our second model"
   ]
  },
  {
   "cell_type": "code",
   "execution_count": null,
   "metadata": {},
   "outputs": [
    {
     "data": {
      "text/plain": [
       "Intitializing Scala interpreter ..."
      ]
     },
     "metadata": {},
     "output_type": "display_data"
    }
   ],
   "source": [
    "val sunnyDaysInMonth = Binomial(30, 0.2)\n",
    "val monthQuality = Apply(sunnyDaysInMonth,\n",
    "  (i: Int) => if (i > 10) \"good\"; else if (i > 5) \"average\"; else \"poor\")\n",
    "val goodMood = Chain(monthQuality, (s: String) =>\n",
    "     if (s == \"good\") Flip(0.9)\n",
    "     else if (s == \"average\") Flip(0.6)\n",
    "     else Flip(0.1))\n",
    "println(VariableElimination.probability(goodMood, true))\n",
    "// prints 0.3939286578054374 with no evidence"
   ]
  },
  {
   "cell_type": "markdown",
   "metadata": {},
   "source": [
    "Let's add a condition in the form of an anonymous function"
   ]
  },
  {
   "cell_type": "code",
   "execution_count": null,
   "metadata": {},
   "outputs": [
    {
     "data": {
      "text/plain": [
       "Intitializing Scala interpreter ..."
      ]
     },
     "metadata": {},
     "output_type": "display_data"
    }
   ],
   "source": [
    "sunnyDaysInMonth.setCondition((i: Int) => i > 8)\n",
    "println(VariableElimination.probability(goodMood, true))\n",
    "// prints 0.6597344078195809"
   ]
  },
  {
   "cell_type": "markdown",
   "metadata": {},
   "source": [
    "We can also add multiple conditions"
   ]
  },
  {
   "cell_type": "code",
   "execution_count": null,
   "metadata": {},
   "outputs": [
    {
     "data": {
      "text/plain": [
       "Intitializing Scala interpreter ..."
      ]
     },
     "metadata": {},
     "output_type": "display_data"
    }
   ],
   "source": [
    "sunnyDaysInMonth.addCondition((i: Int) => i % 3 == 2)"
   ]
  },
  {
   "cell_type": "code",
   "execution_count": null,
   "metadata": {},
   "outputs": [
    {
     "data": {
      "text/plain": [
       "Intitializing Scala interpreter ..."
      ]
     },
     "metadata": {},
     "output_type": "display_data"
    }
   ],
   "source": [
    "println(VariableElimination.probability(goodMood, true))\n",
    "// prints 0.9"
   ]
  },
  {
   "cell_type": "markdown",
   "metadata": {},
   "source": [
    "## constraints\n",
    "A constraint is a form of \"soft\" evidence, in which we do not add an observation, or a strict condition. \n",
    "\n",
    "Rather, we hypothesize that a certain outcome is more likely to happen than another possible outcome. "
   ]
  },
  {
   "cell_type": "code",
   "execution_count": null,
   "metadata": {},
   "outputs": [
    {
     "data": {
      "text/plain": [
       "Intitializing Scala interpreter ..."
      ]
     },
     "metadata": {},
     "output_type": "display_data"
    }
   ],
   "source": [
    "goodMood.addConstraint((b: Boolean) => if (b) 0.5; else 1.0)"
   ]
  },
  {
   "cell_type": "code",
   "execution_count": null,
   "metadata": {},
   "outputs": [
    {
     "data": {
      "text/plain": [
       "Intitializing Scala interpreter ..."
      ]
     },
     "metadata": {},
     "output_type": "display_data"
    }
   ],
   "source": [
    "println(VariableElimination.probability(goodMood, true))\n",
    "// prints 0.24527469450215497"
   ]
  },
  {
   "cell_type": "code",
   "execution_count": null,
   "metadata": {},
   "outputs": [],
   "source": []
  },
  {
   "cell_type": "code",
   "execution_count": null,
   "metadata": {},
   "outputs": [],
   "source": []
  },
  {
   "cell_type": "code",
   "execution_count": null,
   "metadata": {},
   "outputs": [],
   "source": []
  }
 ],
 "metadata": {
  "kernelspec": {
   "display_name": "spylon-kernel",
   "language": "scala",
   "name": "spylon-kernel"
  },
  "language_info": {
   "codemirror_mode": "text/x-scala",
   "file_extension": ".scala",
   "help_links": [
    {
     "text": "MetaKernel Magics",
     "url": "https://github.com/calysto/metakernel/blob/master/metakernel/magics/README.md"
    }
   ],
   "mimetype": "text/x-scala",
   "name": "scala",
   "pygments_lexer": "scala",
   "version": "0.4.1"
  }
 },
 "nbformat": 4,
 "nbformat_minor": 2
}
